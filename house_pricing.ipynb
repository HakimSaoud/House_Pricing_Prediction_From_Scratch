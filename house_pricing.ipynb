{
 "cells": [
  {
   "metadata": {
    "ExecuteTime": {
     "end_time": "2024-11-24T14:19:16.661785Z",
     "start_time": "2024-11-24T14:19:16.658428Z"
    }
   },
   "cell_type": "code",
   "source": [
    "import pandas as pd \n",
    "import numpy as np\n",
    "import matplotlib.pyplot as plt\n"
   ],
   "id": "cfff9ce96fa0ca2f",
   "outputs": [],
   "execution_count": 463

  },
  {
   "metadata": {
    "ExecuteTime": {
     "end_time": "2024-11-24T14:19:16.678417Z",
     "start_time": "2024-11-24T14:19:16.673891Z"
    }
   },
   "cell_type": "code",
   "source": [
    "data = pd.read_csv('houses.csv')\n",
    "data"
   ],
   "id": "abe364868d2e1149",
   "outputs": [],
   "execution_count": 464
  },
  {
   "metadata": {
    "ExecuteTime": {
     "end_time": "2024-11-24T14:19:16.698941Z",
     "start_time": "2024-11-24T14:19:16.690962Z"
    }
   },
   "cell_type": "code",
   "source": "data.corr()",
   "id": "ca38a909301f8fd5",
   "outputs": [
    {
     "data": {
      "text/plain": [
       "                  house_price  number_bedrooms  number_bathrooms\n",
       "house_price          1.000000         0.893849          0.893849\n",
       "number_bedrooms      0.893849         1.000000          1.000000\n",
       "number_bathrooms     0.893849         1.000000          1.000000"
      ],
      "text/html": [
       "<div>\n",
       "<style scoped>\n",
       "    .dataframe tbody tr th:only-of-type {\n",
       "        vertical-align: middle;\n",
       "    }\n",
       "\n",
       "    .dataframe tbody tr th {\n",
       "        vertical-align: top;\n",
       "    }\n",
       "\n",
       "    .dataframe thead th {\n",
       "        text-align: right;\n",
       "    }\n",
       "</style>\n",
       "<table border=\"1\" class=\"dataframe\">\n",
       "  <thead>\n",
       "    <tr style=\"text-align: right;\">\n",
       "      <th></th>\n",
       "      <th>house_price</th>\n",
       "      <th>number_bedrooms</th>\n",
       "      <th>number_bathrooms</th>\n",
       "    </tr>\n",
       "  </thead>\n",
       "  <tbody>\n",
       "    <tr>\n",
       "      <th>house_price</th>\n",
       "      <td>1.000000</td>\n",
       "      <td>0.893849</td>\n",
       "      <td>0.893849</td>\n",
       "    </tr>\n",
       "    <tr>\n",
       "      <th>number_bedrooms</th>\n",
       "      <td>0.893849</td>\n",
       "      <td>1.000000</td>\n",
       "      <td>1.000000</td>\n",
       "    </tr>\n",
       "    <tr>\n",
       "      <th>number_bathrooms</th>\n",
       "      <td>0.893849</td>\n",
       "      <td>1.000000</td>\n",
       "      <td>1.000000</td>\n",
       "    </tr>\n",
       "  </tbody>\n",
       "</table>\n",
       "</div>"
      ]
     },
     "execution_count": 465,
     "metadata": {},
     "output_type": "execute_result"
    }
   ],
   "execution_count": 465
  },
  {
   "metadata": {
    "ExecuteTime": {
     "end_time": "2024-11-24T14:19:16.742394Z",
     "start_time": "2024-11-24T14:19:16.737332Z"
    }
   },
   "cell_type": "code",
   "source": [
    "\n",
    "y = np.array(data.iloc[:,0])\n",
    "X = np.array(data.iloc[:,-2:])\n",
    "\n",
    "y_train = np.array(data.iloc[:int(len(data)*0.8),0])\n",
    "X_train = np.array(data.iloc[:int(len(data)*0.8),--2:])\n",
    "\n",
    "y_test = np.array(data.iloc[int(len(data) * 0.8):, 0])\n",
    "X_test = np.array(data.iloc[int(len(data) * 0.8):, --2:])\n",
    "\n"
   ],
   "id": "1860c74d27ef1d85",
   "outputs": [],
   "execution_count": 466
  },
  {
   "metadata": {
    "ExecuteTime": {
     "end_time": "2024-11-24T14:19:16.936235Z",
     "start_time": "2024-11-24T14:19:16.930903Z"
    }
   },
   "cell_type": "code",
   "source": [
    "class MultipleLinearRegression:\n",
    "    def __init__(self,lr=0.01):\n",
    "        self.lr = lr\n",
    "        self.weights = None\n",
    "        self.bias = 0\n",
    "        \n",
    "    def Z(self,X_train):\n",
    "        return np.dot(X_train,self.weights)+self.bias\n",
    "    \n",
    "    def cost_fucntion(self,X_train,y):\n",
    "        mse = 0\n",
    "        m = X_train.shape[0]\n",
    "        for i in range(m):\n",
    "            pred = self.Z(X_train)\n",
    "            error = y[i] - pred \n",
    "            mse += error**2\n",
    "        return mse / m\n",
    "    \n",
    "    def gradient(self,X_train,y):\n",
    "        m,n = X_train.shape\n",
    "        pred = self.Z(X_train)\n",
    "        error = y-pred\n",
    "        dW = -(2/m) * np.dot(X_train.T, error)\n",
    "        dB = -(2/m) * np.sum(error)\n",
    "        return dW, dB\n",
    "    \n",
    "    def fit(self, X_train, y, epochs=100):\n",
    "        self.weights = np.zeros(X_train.shape[1]) * 0.01\n",
    "        for _ in range(epochs):\n",
    "            dW, dB = self.gradient(X_train, y)\n",
    "            self.weights -= self.lr * dW\n",
    "            self.bias -= self.lr * dB\n",
    "            \n",
    "    def predict(self, X_test):\n",
    "        return self.Z(X_test)"
   ],
   "id": "73f346a587aa6e88",
   "outputs": [],
   "execution_count": 467
  },
  {
   "metadata": {
    "ExecuteTime": {
     "end_time": "2024-11-24T14:19:26.053402Z",
     "start_time": "2024-11-24T14:19:26.046270Z"
    }
   },
   "cell_type": "code",
   "source": [
    "model = MultipleLinearRegression(lr=0.001)\n",
    "model.fit(X_train, y_train,100)\n",
    "np.round(model.predict(X_test))"
   ],
   "id": "d6ff6c6508d71f12",
   "outputs": [
    {
     "data": {
      "text/plain": [
       "array([288630., 203092., 288630., 203092., 374169., 288630., 288630.])"
      ]
     },
     "execution_count": 472,
     "metadata": {},
     "output_type": "execute_result"
    }
   ],
   "execution_count": 472
  }
 ],
 "metadata": {
  "kernelspec": {
   "display_name": "Python 3",
   "language": "python",
   "name": "python3"
  },
  "language_info": {
   "codemirror_mode": {
    "name": "ipython",
    "version": 2
   },
   "file_extension": ".py",
   "mimetype": "text/x-python",
   "name": "python",
   "nbconvert_exporter": "python",
   "pygments_lexer": "ipython2",
   "version": "2.7.6"
  }
 },
 "nbformat": 4,
 "nbformat_minor": 5
}
